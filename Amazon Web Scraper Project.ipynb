{
 "cells": [
  {
   "cell_type": "code",
   "execution_count": 5,
   "id": "2266f9b5-6e2e-4b38-9ac1-164212519a34",
   "metadata": {},
   "outputs": [],
   "source": [
    "# import libraries\n",
    "\n",
    "from bs4 import BeautifulSoup\n",
    "import requests\n",
    "import smtplib\n",
    "import time\n",
    "import datetime"
   ]
  },
  {
   "cell_type": "code",
   "execution_count": 82,
   "id": "72a0d728-9e0d-47fd-8a4b-c78d4baceda0",
   "metadata": {},
   "outputs": [
    {
     "name": "stdout",
     "output_type": "stream",
     "text": [
      "Smitski Hipper Glow in The Dark Figures,Living Series (1/12 Pack) Random Styles Collectible Figurines (1Pc-Random delivery)\n",
      "6.99\n"
     ]
    }
   ],
   "source": [
    "# Connect to website\n",
    "URL = 'https://www.amazon.com/FYPHJKT-Collectible-Figurines-1Pc-Random-delivery/dp/B0DN6285W9/ref=sr_1_1?crid=1JSRWPIKONH4M&dib=eyJ2IjoiMSJ9.5_ExXBscGwHgV0BiJmIZogGMS-fBNR8Kx_gE8nfjvynAP4bN2fQC3A11-7OfN0BCKJxCCdkFkUs6bwxB6JXT-QIzaOrhNhMugpp-4pAQ3Xl-kjGrldGKpjxFaADmNxfpCWnP8d2gqmuNcCzpL0ee0yaMsKUdVe5GNAkENyM7ACxP5yP_UT9PzLRmNZpkKvw6DjWUjXbpi5sy6JlEDVRqjTysOhnrScVTN7fI0567DYIt_zsYewUK6wNBytq8O8UUiQ3VcQ4v7rN9RCpDBumdwvpZNEgeLC3CB10cokdZh0E.0GtxDECKWh325hLZlGEQN4VmoKrLN_sRDVUrR1tlaAE&dib_tag=se&keywords=smiski%2Bhipper&qid=1733585639&sprefix=%2Caps%2C164&sr=8-1&th=1'\n",
    "\n",
    "headers = {\"User-Agent\": \"Mozilla/5.0 (Windows NT 10.0; Win64; x64) AppleWebKit/537.36 (KHTML, like Gecko) Chrome/131.0.0.0 Safari/537.36\", \"Accept-Encoding\":\"gzip, deflate\", \"Accept\":\"text/html,application/xhtml+xml,application/xml;q=0.9,*/*;q=0.8\", \"DNT\":\"1\",\"Connection\":\"close\", \"Upgrade-Insecure-Requests\":\"1\"}\n",
    "\n",
    "page = requests.get(URL, headers=headers)\n",
    "\n",
    "soup1 = BeautifulSoup(page.content, \"html.parser\")\n",
    "\n",
    "soup2 = BeautifulSoup(soup1.prettify(),\"html.parser\")\n",
    "\n",
    "title = soup2.find(id='productTitle').get_text()\n",
    "price = soup2.find(id='tp_price_block_total_price_ww').get_text()\n",
    "\n",
    "# Clean up data\n",
    "price=price.strip()[1:5]\n",
    "title=title.strip()\n",
    "\n",
    "print(title)\n",
    "print(price)\n"
   ]
  },
  {
   "cell_type": "code",
   "execution_count": 78,
   "id": "29a0485f-4764-410a-a179-6a42ea4a63d5",
   "metadata": {},
   "outputs": [
    {
     "name": "stdout",
     "output_type": "stream",
     "text": [
      "2024-12-07\n"
     ]
    }
   ],
   "source": [
    "# Create a Timestamp for your output to track when data was collected\n",
    "\n",
    "import datetime\n",
    "\n",
    "today = datetime.date.today()\n",
    "\n",
    "print(today)"
   ]
  },
  {
   "cell_type": "code",
   "execution_count": 86,
   "id": "d72739ee-af6e-49d7-99c6-3e2b8a168e8b",
   "metadata": {},
   "outputs": [],
   "source": [
    "# Create CSV and write headers and data into the file\n",
    "\n",
    "import csv \n",
    "\n",
    "header = ['Title', 'Price', 'Date']\n",
    "data = [title, price, today]\n",
    "\n",
    "with open('AmazonWebScraperDataset.csv', 'w', newline='', encoding='UTF8') as f:\n",
    "    writer = csv.writer(f)\n",
    "    writer.writerow(header)\n",
    "    writer.writerow(data)\n",
    "\n",
    "\n"
   ]
  },
  {
   "cell_type": "code",
   "execution_count": 88,
   "id": "705e1c98-1b00-4a61-88a9-44e322b15dcf",
   "metadata": {},
   "outputs": [
    {
     "name": "stdout",
     "output_type": "stream",
     "text": [
      "                                               Title  Price       Date\n",
      "0  Smitski Hipper Glow in The Dark Figures,Living...   6.99  12/7/2024\n"
     ]
    }
   ],
   "source": [
    "import pandas as pd\n",
    "\n",
    "df = pd.read_csv(r'C:\\Users\\mabbl\\AmazonWebScraperDataset.csv')\n",
    "\n",
    "print(df)"
   ]
  },
  {
   "cell_type": "code",
   "execution_count": null,
   "id": "4ed4ce2b-2381-440d-aeb2-a7dec7841051",
   "metadata": {},
   "outputs": [],
   "source": [
    "#Append data to the csv\n",
    "\n",
    "with open('AmazonWebScraperDataset.csv', 'a+', newline='', encoding='UTF8') as f:\n",
    "    writer = csv.writer(f)\n",
    "    writer.writerow(data)"
   ]
  },
  {
   "cell_type": "code",
   "execution_count": 92,
   "id": "f7d4e181-6b53-4694-ba9a-f050d7ae1778",
   "metadata": {},
   "outputs": [],
   "source": [
    "# Combine the above code into one function to check price over time\n",
    "\n",
    "def check_price():\n",
    "    URL = 'https://www.amazon.com/FYPHJKT-Collectible-Figurines-1Pc-Random-delivery/dp/B0DN6285W9/ref=sr_1_1?crid=1JSRWPIKONH4M&dib=eyJ2IjoiMSJ9.5_ExXBscGwHgV0BiJmIZogGMS-fBNR8Kx_gE8nfjvynAP4bN2fQC3A11-7OfN0BCKJxCCdkFkUs6bwxB6JXT-QIzaOrhNhMugpp-4pAQ3Xl-kjGrldGKpjxFaADmNxfpCWnP8d2gqmuNcCzpL0ee0yaMsKUdVe5GNAkENyM7ACxP5yP_UT9PzLRmNZpkKvw6DjWUjXbpi5sy6JlEDVRqjTysOhnrScVTN7fI0567DYIt_zsYewUK6wNBytq8O8UUiQ3VcQ4v7rN9RCpDBumdwvpZNEgeLC3CB10cokdZh0E.0GtxDECKWh325hLZlGEQN4VmoKrLN_sRDVUrR1tlaAE&dib_tag=se&keywords=smiski%2Bhipper&qid=1733585639&sprefix=%2Caps%2C164&sr=8-1&th=1'\n",
    "\n",
    "    headers = {\"User-Agent\": \"Mozilla/5.0 (Windows NT 10.0; Win64; x64) AppleWebKit/537.36 (KHTML, like Gecko) Chrome/131.0.0.0 Safari/537.36\", \"Accept-Encoding\":\"gzip, deflate\", \"Accept\":\"text/html,application/xhtml+xml,application/xml;q=0.9,*/*;q=0.8\", \"DNT\":\"1\",\"Connection\":\"close\", \"Upgrade-Insecure-Requests\":\"1\"}\n",
    "\n",
    "    page = requests.get(URL, headers=headers)\n",
    "\n",
    "    soup1 = BeautifulSoup(page.content, \"html.parser\")\n",
    "\n",
    "    soup2 = BeautifulSoup(soup1.prettify(),\"html.parser\")\n",
    "\n",
    "    title = soup2.find(id='productTitle').get_text()\n",
    "    price = soup2.find(id='tp_price_block_total_price_ww').get_text()\n",
    "\n",
    "    # Clean up data\n",
    "    price=price.strip()[1:5]\n",
    "    title=title.strip()\n",
    "\n",
    "    # Add datetime\n",
    "    import datetime\n",
    "    today = datetime.date.today()\n",
    "\n",
    "    # Create csv\n",
    "    import csv \n",
    "    header = ['Title', 'Price', 'Date']\n",
    "    data = [title, price, today]\n",
    "\n",
    "    with open('AmazonWebScraperDataset.csv', 'a+', newline='', encoding='UTF8') as f:\n",
    "        writer = csv.writer(f)\n",
    "        writer.writerow(data)\n",
    "    "
   ]
  },
  {
   "cell_type": "code",
   "execution_count": null,
   "id": "19568753-047e-4a5a-9223-dbe18098e1b2",
   "metadata": {},
   "outputs": [],
   "source": [
    "# Runs check_price after a set time and input data into the CSV, will check the price everyday\n",
    "\n",
    "while(True):\n",
    "    check_price()\n",
    "    time.sleep(86400)"
   ]
  },
  {
   "cell_type": "code",
   "execution_count": null,
   "id": "409373f1-ffb3-43fb-a925-1811dba3049b",
   "metadata": {},
   "outputs": [],
   "source": [
    "import pandas as pd\n",
    "\n",
    "df = pd.read_csv(r'C:\\Users\\mabbl\\AmazonWebScraperDataset.csv')\n",
    "\n",
    "print(df)"
   ]
  },
  {
   "cell_type": "code",
   "execution_count": null,
   "id": "645298a1-1ff4-46b4-899b-f44cab10bb16",
   "metadata": {},
   "outputs": [],
   "source": [
    "# Send myself an email when a price hits below a certain level\n",
    "\n",
    "def send_mail():\n",
    "    server = smtplib.SMTP_SSL('smtp.gmail.com',465)\n",
    "    server.ehlo()\n",
    "    #server.starttls()\n",
    "    server.ehlo()\n",
    "    server.login('mblumenthal.spain@gmail.com','xxxxxxxxxxxxxx')\n",
    "    \n",
    "    subject = \"Smiski Hippers All Time Low Price\"\n",
    "    body = \"Morgan, This is the moment we have been waiting for.  Link here: https://www.amazon.com/FYPHJKT-Collectible-Figurines-1Pc-Random-delivery/dp/B0DN6285W9/ref=sr_1_1?crid=1JSRWPIKONH4M&dib=eyJ2IjoiMSJ9.5_ExXBscGwHgV0BiJmIZogGMS-fBNR8Kx_gE8nfjvynAP4bN2fQC3A11-7OfN0BCKJxCCdkFkUs6bwxB6JXT-QIzaOrhNhMugpp-4pAQ3Xl-kjGrldGKpjxFaADmNxfpCWnP8d2gqmuNcCzpL0ee0yaMsKUdVe5GNAkENyM7ACxP5yP_UT9PzLRmNZpkKvw6DjWUjXbpi5sy6JlEDVRqjTysOhnrScVTN7fI0567DYIt_zsYewUK6wNBytq8O8UUiQ3VcQ4v7rN9RCpDBumdwvpZNEgeLC3CB10cokdZh0E.0GtxDECKWh325hLZlGEQN4VmoKrLN_sRDVUrR1tlaAE&dib_tag=se&keywords=smiski%2Bhipper&qid=1733585639&sprefix=%2Caps%2C164&sr=8-1&th=1\"\n",
    "   \n",
    "    msg = f\"Subject: {subject}\\n\\n{body}\"\n",
    "    \n",
    "    server.sendmail(\n",
    "        'mblumenthal.spain@gmail.com',\n",
    "        msg\n",
    "     \n",
    "    )"
   ]
  }
 ],
 "metadata": {
  "kernelspec": {
   "display_name": "Python 3 (ipykernel)",
   "language": "python",
   "name": "python3"
  },
  "language_info": {
   "codemirror_mode": {
    "name": "ipython",
    "version": 3
   },
   "file_extension": ".py",
   "mimetype": "text/x-python",
   "name": "python",
   "nbconvert_exporter": "python",
   "pygments_lexer": "ipython3",
   "version": "3.12.7"
  }
 },
 "nbformat": 4,
 "nbformat_minor": 5
}
